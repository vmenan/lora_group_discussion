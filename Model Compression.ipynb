{
 "cells": [
  {
   "cell_type": "code",
   "execution_count": 1,
   "id": "2d828c02",
   "metadata": {},
   "outputs": [],
   "source": [
    "from scipy.linalg import svd\n",
    "import numpy as np\n",
    "import matplotlib.pyplot as plt\n",
    "import time\n",
    "from IPython.display import  clear_output\n",
    "import torch\n",
    "import torch.nn as nn\n",
    "import torch.optim as optim\n",
    "import torchvision\n",
    "import torchvision.transforms as transforms\n",
    "import time\n",
    "%matplotlib inline\n",
    "np.set_printoptions(precision=3, suppress=True)"
   ]
  },
  {
   "cell_type": "markdown",
   "id": "54efc762",
   "metadata": {},
   "source": [
    "## Defining the helper functions and the models\n",
    "\n",
    "**Note** : The model is constructed using only using Linear layers (one hidden layer and one output layer) for simplicity and to prove our point this is sufficient. And importantly the linear layers intialized with no bias present, to make our lives easier."
   ]
  },
  {
   "cell_type": "code",
   "execution_count": 2,
   "id": "f163ada2",
   "metadata": {},
   "outputs": [],
   "source": [
    "def get_model_size(model):\n",
    "    total_params = sum(p.numel() for p in model.parameters())\n",
    "    model_size_mb = total_params * 4 / (1024 ** 2)  # Convert to MB (assuming float32)\n",
    "    print(f\"Model Size: {model_size_mb:.2f} MB\")\n",
    "    return model_size_mb\n",
    "\n",
    "def count_parameters(model):\n",
    "    return sum(p.numel() for p in model.parameters() if p.requires_grad)\n",
    "\n",
    "# Define a function to load the MNIST dataset\n",
    "def load_mnist(batch_size):\n",
    "    transform = transforms.Compose([transforms.ToTensor(), transforms.Normalize((0.5,), (0.5,))])\n",
    "    trainset = torchvision.datasets.MNIST(root='./data', train=True, transform=transform, download=True)\n",
    "    trainloader = torch.utils.data.DataLoader(trainset, batch_size=batch_size, shuffle=True)\n",
    "    testset = torchvision.datasets.MNIST(root='./data', train=False, transform=transform, download=True)\n",
    "    testloader = torch.utils.data.DataLoader(testset, batch_size=batch_size, shuffle=False)\n",
    "    return trainloader, testloader\n",
    "\n",
    "def test_model(model):\n",
    "    # Testing loop\n",
    "    correct = 0\n",
    "    total = 0\n",
    "    with torch.no_grad():\n",
    "        for data in testloader:\n",
    "            images, labels = data\n",
    "            outputs = model(images)\n",
    "            _, predicted = torch.max(outputs.data, 1)\n",
    "            total += labels.size(0)\n",
    "            correct += (predicted == labels).sum().item()\n",
    "            \n",
    "    return correct,total\n",
    "\n",
    "# Define a simple feedforward neural network\n",
    "class Net(nn.Module):\n",
    "    def __init__(self):\n",
    "        super(Net, self).__init__()\n",
    "        self.fc1 = nn.Linear(28 * 28, 512,bias=False)  # Input layer to hidden layer\n",
    "        self.relu = nn.ReLU()\n",
    "        self.fc2 = nn.Linear(512, 10,bias=False)  # Hidden layer to output layer\n",
    "\n",
    "    def forward(self, x):\n",
    "        x = x.view(-1, 28 * 28)  # Flatten the input\n",
    "        x = self.fc1(x)\n",
    "        x = self.relu(x)\n",
    "        x = self.fc2(x)\n",
    "        return x\n",
    "    \n",
    "\n",
    "class NetReconstructed(nn.Module):\n",
    "    def __init__(self, decomposed_weight,custom_hidden_weights):\n",
    "        super(NetReconstructed, self).__init__()\n",
    "        self.U = nn.Linear(decomposed_weight[0].shape[1], decomposed_weight[0].shape[0],bias=False)  \n",
    "        self.S = nn.Linear(decomposed_weight[1].shape[1], decomposed_weight[1].shape[0],bias=False)  \n",
    "        self.Vh = nn.Linear(decomposed_weight[2].shape[1], decomposed_weight[2].shape[0],bias=False)  \n",
    "        \n",
    "        self.relu = nn.ReLU()\n",
    "        self.fc2 = nn.Linear(512, 10)  \n",
    "\n",
    "        # Set custom weights for the hidden layer\n",
    "        with torch.no_grad():\n",
    "            self.U.weight.copy_(decomposed_weight[0])\n",
    "            self.S.weight.copy_(decomposed_weight[1])\n",
    "            self.Vh.weight.copy_(decomposed_weight[2])\n",
    "            \n",
    "            self.fc2.weight.copy_(custom_hidden_weights)\n",
    "            \n",
    "\n",
    "    def forward(self, x):\n",
    "        x = x.view(-1, 28 * 28)  # Flatten the input\n",
    "        x = self.Vh(x)\n",
    "        x = self.S(x)\n",
    "        x = self.U(x)\n",
    "        x = self.relu(x)\n",
    "        x = self.fc2(x)\n",
    "        return x"
   ]
  },
  {
   "cell_type": "markdown",
   "id": "9138e263",
   "metadata": {},
   "source": [
    "### Training & Testing the big model"
   ]
  },
  {
   "cell_type": "code",
   "execution_count": 3,
   "id": "b8b30ab9",
   "metadata": {},
   "outputs": [
    {
     "name": "stdout",
     "output_type": "stream",
     "text": [
      "Epoch 1, Loss: 0.7071708253642389\n",
      "Epoch 2, Loss: 0.3590520282131014\n",
      "Epoch 3, Loss: 0.3148835263510884\n",
      "Epoch 4, Loss: 0.287791384777217\n",
      "Epoch 5, Loss: 0.2656276762437846\n",
      "Epoch 6, Loss: 0.24576456542970784\n",
      "Epoch 7, Loss: 0.22746289382452395\n",
      "Epoch 8, Loss: 0.21143903574153686\n",
      "Epoch 9, Loss: 0.19710641403172188\n",
      "Epoch 10, Loss: 0.1840020162162623\n",
      "Epoch 11, Loss: 0.17246652686440234\n",
      "Epoch 12, Loss: 0.1620545075543082\n",
      "Epoch 13, Loss: 0.15282674830383075\n",
      "Epoch 14, Loss: 0.1444198288190276\n",
      "Epoch 15, Loss: 0.1367216758044766\n",
      "Epoch 16, Loss: 0.13033197440707417\n",
      "Epoch 17, Loss: 0.12404325315311773\n",
      "Epoch 18, Loss: 0.11827899765834879\n",
      "Epoch 19, Loss: 0.11308168986244306\n",
      "Epoch 20, Loss: 0.10828243062666643\n",
      "Finished Training\n",
      "Accuracy on the test set: 96.71%\n"
     ]
    }
   ],
   "source": [
    "# Initialize the neural network, loss function, and optimizer\n",
    "net = Net()\n",
    "criterion = nn.CrossEntropyLoss()\n",
    "optimizer = optim.SGD(net.parameters(), lr=0.01)\n",
    "\n",
    "# Load the MNIST dataset\n",
    "batch_size = 64\n",
    "trainloader, testloader = load_mnist(batch_size)\n",
    "\n",
    "# Training loop\n",
    "epochs = 20\n",
    "for epoch in range(epochs):\n",
    "    running_loss = 0.0\n",
    "    for i, data in enumerate(trainloader, 0):\n",
    "        inputs, labels = data\n",
    "        optimizer.zero_grad()\n",
    "        outputs = net(inputs)\n",
    "        loss = criterion(outputs, labels)\n",
    "        loss.backward()\n",
    "        optimizer.step()\n",
    "        running_loss += loss.item()\n",
    "\n",
    "    print(f\"Epoch {epoch + 1}, Loss: {running_loss / len(trainloader)}\")\n",
    "\n",
    "print(\"Finished Training\")\n",
    "\n",
    "# Testing \n",
    "correct,total = test_model(net)\n",
    "print(f\"Accuracy on the test set: {100 * correct / total}%\")"
   ]
  },
  {
   "cell_type": "markdown",
   "id": "46d4f772",
   "metadata": {},
   "source": [
    "We shall now look at the model size"
   ]
  },
  {
   "cell_type": "code",
   "execution_count": 4,
   "id": "268fe2eb",
   "metadata": {},
   "outputs": [
    {
     "name": "stdout",
     "output_type": "stream",
     "text": [
      "Model Size: 1.55 MB\n"
     ]
    },
    {
     "data": {
      "text/plain": [
       "1.55078125"
      ]
     },
     "execution_count": 4,
     "metadata": {},
     "output_type": "execute_result"
    }
   ],
   "source": [
    "get_model_size(net)"
   ]
  },
  {
   "cell_type": "markdown",
   "id": "efa84be7",
   "metadata": {},
   "source": [
    "Now lets extract the weight of the layer with the highest number of parameters, which is the hidden layer. The hidden layer has weight matrix of 784 x 512 learnable parameters. Which is a lot compared to the other layer which is only 512 x 10."
   ]
  },
  {
   "cell_type": "code",
   "execution_count": 5,
   "id": "5cc5b62f",
   "metadata": {},
   "outputs": [],
   "source": [
    "layer_name = 'fc1'  # Change this to the name of your specific layer\n",
    "layer_weights = net.state_dict()[layer_name + '.weight']"
   ]
  },
  {
   "cell_type": "markdown",
   "id": "7bb43ac2",
   "metadata": {},
   "source": [
    "We shall convert it the weight to numpy so we can perform svd using scipy"
   ]
  },
  {
   "cell_type": "code",
   "execution_count": 6,
   "id": "ee7d5046",
   "metadata": {},
   "outputs": [],
   "source": [
    "fc1_numpy = layer_weights.numpy()"
   ]
  },
  {
   "cell_type": "code",
   "execution_count": 7,
   "id": "7623b0d3",
   "metadata": {},
   "outputs": [],
   "source": [
    "u, s, vh = svd(fc1_numpy)"
   ]
  },
  {
   "cell_type": "markdown",
   "id": "63dc1ab5",
   "metadata": {},
   "source": [
    "Lets plot the magnitude of the singular values"
   ]
  },
  {
   "cell_type": "code",
   "execution_count": 8,
   "id": "612a56ef",
   "metadata": {},
   "outputs": [
    {
     "data": {
      "text/plain": [
       "[<matplotlib.lines.Line2D at 0x19b8828a7f0>]"
      ]
     },
     "execution_count": 8,
     "metadata": {},
     "output_type": "execute_result"
    },
    {
     "data": {
      "image/png": "[encoded data removed]",
      "text/plain": [
       "<Figure size 640x480 with 1 Axes>"
      ]
     },
     "metadata": {},
     "output_type": "display_data"
    }
   ],
   "source": [
    "plt.plot(s)"
   ]
  },
  {
   "cell_type": "markdown",
   "id": "51ea86f0",
   "metadata": {},
   "source": [
    "We can also use *torch.linalg.svd* to obtain U, S and Vh"
   ]
  },
  {
   "cell_type": "code",
   "execution_count": 9,
   "id": "2938cd31",
   "metadata": {},
   "outputs": [
    {
     "data": {
      "text/plain": [
       "(torch.Size([512, 512]), torch.Size([512]), torch.Size([784, 784]))"
      ]
     },
     "execution_count": 9,
     "metadata": {},
     "output_type": "execute_result"
    }
   ],
   "source": [
    "U, S, Vh = torch.linalg.svd(layer_weights)\n",
    "U.shape, S.shape, Vh.shape"
   ]
  },
  {
   "cell_type": "markdown",
   "id": "5ec9c1c9",
   "metadata": {},
   "source": [
    "Now lets perform low rank approximation on the layer weight, by choosing the rank to be equal to 25. We shall also see the distance between the original weight matrix and the rank 30 approximated matrix using the *torch.dist*"
   ]
  },
  {
   "cell_type": "code",
   "execution_count": 20,
   "id": "0c287387",
   "metadata": {},
   "outputs": [
    {
     "data": {
      "text/plain": [
       "tensor(11.5067)"
      ]
     },
     "execution_count": 20,
     "metadata": {},
     "output_type": "execute_result"
    }
   ],
   "source": [
    "rank = 50\n",
    "torch.dist(layer_weights, U[:, :rank] @ torch.diag(S[:rank]) @ Vh[:rank,:])"
   ]
  },
  {
   "cell_type": "code",
   "execution_count": 21,
   "id": "7babbc48",
   "metadata": {},
   "outputs": [],
   "source": [
    "decomposed_weight = [U[:, :rank],torch.diag(S[:rank]),Vh[:rank,:]]\n",
    "custom_hidden_weights = net.state_dict()[\"fc2.weight\"]"
   ]
  },
  {
   "cell_type": "code",
   "execution_count": 22,
   "id": "64d207aa",
   "metadata": {},
   "outputs": [],
   "source": [
    "reconstructed_net = NetReconstructed(decomposed_weight,custom_hidden_weights)"
   ]
  },
  {
   "cell_type": "code",
   "execution_count": 23,
   "id": "618457c9",
   "metadata": {},
   "outputs": [
    {
     "name": "stdout",
     "output_type": "stream",
     "text": [
      "Accuracy on the test set: 96.06%\n"
     ]
    }
   ],
   "source": [
    "# Testing \n",
    "correct,total = test_model(reconstructed_net)\n",
    "\n",
    "print(f\"Accuracy on the test set: {100 * correct / total}%\")"
   ]
  },
  {
   "cell_type": "code",
   "execution_count": 24,
   "id": "5cd49889",
   "metadata": {
    "scrolled": true
   },
   "outputs": [
    {
     "name": "stdout",
     "output_type": "stream",
     "text": [
      "Model Size: 0.28 MB\n",
      "Model Size: 1.55 MB\n"
     ]
    },
    {
     "data": {
      "text/plain": [
       "17.816730950881613"
      ]
     },
     "execution_count": 24,
     "metadata": {},
     "output_type": "execute_result"
    }
   ],
   "source": [
    "(get_model_size(reconstructed_net)/get_model_size(net))*100"
   ]
  },
  {
   "cell_type": "code",
   "execution_count": null,
   "id": "2b22e2f9",
   "metadata": {},
   "outputs": [],
   "source": []
  }
 ],
 "metadata": {
  "kernelspec": {
   "display_name": "Python 3 (ipykernel)",
   "language": "python",
   "name": "python3"
  },
  "language_info": {
   "codemirror_mode": {
    "name": "ipython",
    "version": 3
   },
   "file_extension": ".py",
   "mimetype": "text/x-python",
   "name": "python",
   "nbconvert_exporter": "python",
   "pygments_lexer": "ipython3",
   "version": "3.8.16"
  }
 },
 "nbformat": 4,
 "nbformat_minor": 5
}
